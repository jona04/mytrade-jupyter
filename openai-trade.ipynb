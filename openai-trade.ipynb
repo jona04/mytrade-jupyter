{
 "cells": [
  {
   "cell_type": "code",
   "execution_count": null,
   "id": "89052a8f-202f-4726-b883-009e3374c7d2",
   "metadata": {},
   "outputs": [],
   "source": []
  },
  {
   "cell_type": "code",
   "execution_count": null,
   "id": "e60fae29-bef6-4901-a4c0-485d68429d47",
   "metadata": {},
   "outputs": [],
   "source": []
  },
  {
   "cell_type": "code",
   "execution_count": null,
   "id": "c6a14d69-7785-4599-9ddc-662877f70915",
   "metadata": {},
   "outputs": [],
   "source": []
  },
  {
   "cell_type": "code",
   "execution_count": 10,
   "id": "00d33195-a736-4c3f-af4b-4c7688b9cc99",
   "metadata": {},
   "outputs": [],
   "source": [
    "import base64\n",
    "import requests\n",
    "\n",
    "# OpenAI API Key\n",
    "\n",
    "# Function to encode the image\n",
    "def encode_image(image_path):\n",
    "  with open(image_path, \"rb\") as image_file:\n",
    "    return base64.b64encode(image_file.read()).decode('utf-8')\n",
    "\n",
    "# Path to your image\n",
    "image_path = \"file6.png\"\n",
    "\n",
    "# Getting the base64 string\n",
    "base64_image = encode_image(image_path)\n",
    "\n",
    "\n",
    "text = \"\"\"Responda as seguintes questões a respeito dos graficos presentes na imagem. Leve em consideração o grafico horario. O grafico diário é apenas para lhe oferecer mais contexto.\n",
    "1. **Tendência Geral**:\n",
    "   - Descreva a tendência geral observada no gráfico. A tendência é de alta, baixa ou lateral?\n",
    "\n",
    "2. **Padrões de Candlestick**:\n",
    "   - Identifique quaisquer padrões significativos de candlestick. Existem sinais de reversão, continuação, doji, etc.?\n",
    "\n",
    "3. **Níveis de Suporte e Resistência**:\n",
    "   - Identifique os níveis de suporte e resistência no gráfico. Onde estão os principais pontos de suporte e resistência?\n",
    "\n",
    "4. **Volume** (se aplicável):\n",
    "   - Analise o volume de negociação, se disponível. O volume confirma a tendência observada?\n",
    "\n",
    "5. **Movimentos Recentes**:\n",
    "   - Descreva os movimentos de preço mais recentes. Houve rompimentos, pullbacks ou consolidações significativas?\n",
    "\n",
    "6. **Recomendações**:\n",
    "   - Com base na análise acima, qual é a recomendação (compra, venda ou aguardar)? Justifique a recomendação com base na análise.\n",
    "\n",
    "7. **Níveis de Entrada e Saída**:\n",
    "   - Se a recomendação for compra ou venda, sugira os níveis de entrada, stop loss e take profit.\n",
    "\"\"\"\n",
    "\n"
   ]
  },
  {
   "cell_type": "code",
   "execution_count": 13,
   "id": "4d2fa15f-8bc5-4f38-88e2-60b069a13553",
   "metadata": {},
   "outputs": [],
   "source": [
    "headers = {\n",
    "  \"Content-Type\": \"application/json\",\n",
    "  \"Authorization\": f\"Bearer {api_key}\"\n",
    "}\n",
    "\n",
    "payload = {\n",
    "  \"model\": \"gpt-4o-mini\",\n",
    "  \"messages\": [\n",
    "    {\n",
    "      \"role\": \"user\",\n",
    "      \"content\": [\n",
    "        {\n",
    "          \"type\": \"text\",\n",
    "          \"text\": text\n",
    "        },\n",
    "        {\n",
    "          \"type\": \"image_url\",\n",
    "          \"image_url\": {\n",
    "            \"url\": f\"data:image/jpeg;base64,{base64_image}\"\n",
    "          }\n",
    "        }\n",
    "      ]\n",
    "    }\n",
    "  ],\n",
    "  \"max_tokens\": 1000\n",
    "}\n",
    "\n",
    "response = requests.post(\"https://api.openai.com/v1/chat/completions\", headers=headers, json=payload)\n",
    "\n",
    "# print(response.json())"
   ]
  },
  {
   "cell_type": "code",
   "execution_count": 14,
   "id": "56643d1d-e841-4ea9-a91e-c01398531aee",
   "metadata": {},
   "outputs": [
    {
     "data": {
      "text/plain": [
       "{'id': 'chatcmpl-9wd2kPrsZjQYVlskvL5Xw9IPpAkBB',\n",
       " 'object': 'chat.completion',\n",
       " 'created': 1723760134,\n",
       " 'model': 'gpt-4o-mini-2024-07-18',\n",
       " 'choices': [{'index': 0,\n",
       "   'message': {'role': 'assistant',\n",
       "    'content': 'Com base nos gráficos apresentados, aqui estão as análises solicitadas:\\n\\n1. **Tendência Geral**:\\n   - A tendência geral do gráfico horário mostra um padrão misto, com períodos de alta e baixa. Nos movimentos mais recentes, parece haver uma leve tendência de alta.\\n\\n2. **Padrões de Candlestick**:\\n   - Observam-se algumas velas de reversão, como dojis, que podem sugerir indecisão no mercado. O comportamento das velas vermelhas e verdes indica um possível equilíbrio entre compradores e vendedores.\\n\\n3. **Níveis de Suporte e Resistência**:\\n   - Os principais níveis de suporte estão em torno de 2430 e resistência em torno de 2480, com os preços costurando frequentemente estas áreas.\\n\\n4. **Volume** (se aplicável):\\n   - Se o volume estiver disponível (não visível na imagem), um volume crescente durante movimentos de alta poderia confirmar a continuidade dessa tendência.\\n\\n5. **Movimentos Recentes**:\\n   - Recentemente, observou-se um pequeno rompimento no movimento de preço. Após uma queda, ocorre uma leve recuperação, o que pode ser interpretado como um pullback.\\n\\n6. **Recomendações**:\\n   - Com base na análise, a recomendação seria aguardar uma confirmação da tendência de alta. Se houver um fechamento acima do nível de resistência de 2480, pode-se considerar compra. Se o preço cair abaixo do suporte em 2430, a venda pode ser justificada.\\n\\n7. **Níveis de Entrada e Saída**:\\n   - Para uma possível compra: **entrada** em 2485, **stop loss** em 2460, e **take profit** em 2520.\\n   - Para uma venda: **entrada** em 2425, **stop loss** em 2450, e **take profit** em 2390.\\n\\nEssa análise é sugestiva e deve ser complementada com outros fatores e estratégias de gestão de risco.',\n",
       "    'refusal': None},\n",
       "   'logprobs': None,\n",
       "   'finish_reason': 'stop'}],\n",
       " 'usage': {'prompt_tokens': 25792,\n",
       "  'completion_tokens': 409,\n",
       "  'total_tokens': 26201},\n",
       " 'system_fingerprint': 'fp_507c9469a1'}"
      ]
     },
     "execution_count": 14,
     "metadata": {},
     "output_type": "execute_result"
    }
   ],
   "source": [
    "response.json()"
   ]
  },
  {
   "cell_type": "code",
   "execution_count": null,
   "id": "24bf8a45-350a-4418-80e6-55b3b96cbb68",
   "metadata": {},
   "outputs": [],
   "source": []
  }
 ],
 "metadata": {
  "kernelspec": {
   "display_name": "Python 3 (ipykernel)",
   "language": "python",
   "name": "python3"
  },
  "language_info": {
   "codemirror_mode": {
    "name": "ipython",
    "version": 3
   },
   "file_extension": ".py",
   "mimetype": "text/x-python",
   "name": "python",
   "nbconvert_exporter": "python",
   "pygments_lexer": "ipython3",
   "version": "3.10.14"
  }
 },
 "nbformat": 4,
 "nbformat_minor": 5
}
