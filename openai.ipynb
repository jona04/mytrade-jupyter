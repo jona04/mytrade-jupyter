{
 "cells": [
  {
   "cell_type": "code",
   "execution_count": null,
   "id": "e60fae29-bef6-4901-a4c0-485d68429d47",
   "metadata": {},
   "outputs": [],
   "source": []
  },
  {
   "cell_type": "code",
   "execution_count": 3,
   "id": "20f719e1-554f-4ef3-8eb0-8c509abefc12",
   "metadata": {},
   "outputs": [],
   "source": [
    "from openai import OpenAI\n",
    "\n",
    "client = OpenAI(\n",
    "  organization='org-AdcrNQAWOgEdrOgqNqcvAPXK',\n",
    "  project='proj_eOp0J3fqk1TmL7tKwmWsyXeJ',\n",
    ")"
   ]
  },
  {
   "cell_type": "code",
   "execution_count": 13,
   "id": "738e827f-15e1-4138-b42c-08d01bc9e740",
   "metadata": {},
   "outputs": [],
   "source": [
    "\n",
    "text = \"\"\"\n",
    "Ativo: XAU/USD\n",
    "Data e Hora da análise: 2023-07-11 00:00 (Tuesday). A média móvel de 50 períodos está descendo, com valor atual de 1946.25. A média móvel de 200 períodos está subindo, com valor atual de 1905.45. A média móvel de 50 períodos cruzou acima da de 200, indicando uma possível tendência de alta. O preço está dentro das Bandas de Bollinger (valor atual: 1933.23). As Bandas de Bollinger (40 períodos) estão se alargando, indicando aumento na volatilidade. A tendência é fraca ou inexistente, com ADX (30 períodos) em 13.56. O RSI (30 períodos) está em uma zona neutra, com valor de 47.70.\n",
    "Dado o texto acima. Me forneça os dados para o modelo abaixo. Substitua 'value' pela sua recomendação.\n",
    "\n",
    "#PipsStopLoss e #PipsTakeProfit nunca deve ser mais de 300 pips. \n",
    "No XAU/USD 1 PIP é segunda casa decimal (em 2314.59, o 5 significa 5 pips, e o 4 siginifica 40 pips).\n",
    "\n",
    "#Acao = Comprar, Vender ou Aguardar\n",
    "#StopLoss = value\n",
    "#TakeProfit = value\n",
    "#PipsStopLoss = value (valor de pips do stop loss)\n",
    "#PipsTakeProfit = value (valor de pips do take profit)\n",
    "\"\"\"\n",
    "completion = client.chat.completions.create(\n",
    "    model=\"gpt-4o-mini\",\n",
    "    messages=[\n",
    "        {\"role\": \"system\", \"content\": \"You are a helpful assistant.\"},\n",
    "        {\n",
    "            \"role\": \"user\",\n",
    "            \"content\": text\n",
    "        }\n",
    "    ]\n",
    ")\n",
    "\n"
   ]
  },
  {
   "cell_type": "code",
   "execution_count": 14,
   "id": "c6a14d69-7785-4599-9ddc-662877f70915",
   "metadata": {},
   "outputs": [
    {
     "data": {
      "text/plain": [
       "ChatCompletion(id='chatcmpl-9yjzs8OkBjKvmyFykg3LAo0swlMZ9', choices=[Choice(finish_reason='stop', index=0, logprobs=None, message=ChatCompletionMessage(content='Com base na análise fornecida para o ativo XAU/USD, aqui está a recomendação formatada:\\n\\n``` \\n#Acao = Comprar\\n#StopLoss = 1913.23\\n#TakeProfit = 1973.23\\n#PipsStopLoss = 300\\n#PipsTakeProfit = 400\\n```\\n\\n### Justificativa:\\n- **Ação**: A tendência recentementes está sugerindo uma possível alta, dado que a MA de 50 períodos cruzou acima da MA de 200, mesmo que atualmente a tendência seja fraca.\\n- **Stop Loss**: Sugerido como 300 pips abaixo do preço atual (1933.23), o que resulta em 1913.23.\\n- **Take Profit**: Sugerido como 400 pips acima do preço atual, o que resulta em 1973.23.\\n  \\nEssa combinação de Stop Loss e Take Profit indica uma estratégia onde você busca um ganho potencial maior em relação ao risco assumido. Lembre-se sempre de monitorar o mercado e ajustar as posições conforme necessário.', refusal=None, role='assistant', function_call=None, tool_calls=None))], created=1724263520, model='gpt-4o-mini-2024-07-18', object='chat.completion', service_tier=None, system_fingerprint='fp_507c9469a1', usage=CompletionUsage(completion_tokens=223, prompt_tokens=339, total_tokens=562))"
      ]
     },
     "execution_count": 14,
     "metadata": {},
     "output_type": "execute_result"
    }
   ],
   "source": [
    "completion"
   ]
  },
  {
   "cell_type": "code",
   "execution_count": 15,
   "id": "d2ccb91a-14ea-4692-ae1f-a1a2b4885add",
   "metadata": {},
   "outputs": [
    {
     "data": {
      "text/plain": [
       "'Com base na análise fornecida para o ativo XAU/USD, aqui está a recomendação formatada:\\n\\n``` \\n#Acao = Comprar\\n#StopLoss = 1913.23\\n#TakeProfit = 1973.23\\n#PipsStopLoss = 300\\n#PipsTakeProfit = 400\\n```\\n\\n### Justificativa:\\n- **Ação**: A tendência recentementes está sugerindo uma possível alta, dado que a MA de 50 períodos cruzou acima da MA de 200, mesmo que atualmente a tendência seja fraca.\\n- **Stop Loss**: Sugerido como 300 pips abaixo do preço atual (1933.23), o que resulta em 1913.23.\\n- **Take Profit**: Sugerido como 400 pips acima do preço atual, o que resulta em 1973.23.\\n  \\nEssa combinação de Stop Loss e Take Profit indica uma estratégia onde você busca um ganho potencial maior em relação ao risco assumido. Lembre-se sempre de monitorar o mercado e ajustar as posições conforme necessário.'"
      ]
     },
     "execution_count": 15,
     "metadata": {},
     "output_type": "execute_result"
    }
   ],
   "source": [
    "message_content = completion.choices[0].message.content\n",
    "message_content"
   ]
  },
  {
   "cell_type": "code",
   "execution_count": 21,
   "id": "fc61aecf-1583-408c-9e3c-3abbb2302e6a",
   "metadata": {},
   "outputs": [
    {
     "name": "stdout",
     "output_type": "stream",
     "text": [
      "{\n",
      "    \"Acao\": {\n",
      "        \"type\": \"enum\",\n",
      "        \"value\": [\"Comprar\", \"Vender\", \"Aguardar\"]\n",
      "    }\n",
      "Erro ao decodificar o JSON: Expecting ',' delimiter: line 5 column 6 (char 96)\n"
     ]
    }
   ],
   "source": [
    "import re\n",
    "import json\n",
    "\n",
    "json_match = re.search(r'json\\s*(\\{.*?\\})\\s*', message_content, re.DOTALL)\n",
    "\n",
    "if json_match:\n",
    "    # Extraindo a string JSON\n",
    "    json_string = json_match.group(1)\n",
    "    print(json_string)\n",
    "    try:\n",
    "        # Convertendo a string JSON para um dicionário Python\n",
    "        json_data = json.loads(json_string)\n",
    "        print(json.dumps(json_data, indent=4))\n",
    "    except json.JSONDecodeError as e:\n",
    "        print(f\"Erro ao decodificar o JSON: {e}\")\n",
    "else:\n",
    "    print(\"JSON não encontrado na mensagem.\")"
   ]
  },
  {
   "cell_type": "code",
   "execution_count": null,
   "id": "ee00283e-7188-4303-9da0-ca647ed7dae9",
   "metadata": {},
   "outputs": [],
   "source": []
  },
  {
   "cell_type": "code",
   "execution_count": 5,
   "id": "dd25cf44-a53d-4b38-b821-9acdaa2693b8",
   "metadata": {},
   "outputs": [
    {
     "name": "stdout",
     "output_type": "stream",
     "text": [
      "Choice(finish_reason='stop', index=0, logprobs=None, message=ChatCompletionMessage(content='The image shows a scenic view of a boardwalk or pathway running through a lush green field. There are tall grasses on either side of the path, and the sky above is partly cloudy with blue and wispy clouds. The overall atmosphere appears tranquil and natural, suggesting a peaceful outdoor setting.', refusal=None, role='assistant', function_call=None, tool_calls=None))\n"
     ]
    }
   ],
   "source": [
    "\n",
    "response = client.chat.completions.create(\n",
    "  model=\"gpt-4o-mini\",\n",
    "  messages=[\n",
    "    {\n",
    "      \"role\": \"user\",\n",
    "      \"content\": [\n",
    "        {\"type\": \"text\", \"text\": \"What’s in this image?\"},\n",
    "        {\n",
    "          \"type\": \"image_url\",\n",
    "          \"image_url\": {\n",
    "            \"url\": \"https://upload.wikimedia.org/wikipedia/commons/thumb/d/dd/Gfp-wisconsin-madison-the-nature-boardwalk.jpg/2560px-Gfp-wisconsin-madison-the-nature-boardwalk.jpg\",\n",
    "          },\n",
    "        },\n",
    "      ],\n",
    "    }\n",
    "  ],\n",
    "  max_tokens=300,\n",
    ")\n",
    "\n",
    "print(response.choices[0])"
   ]
  },
  {
   "cell_type": "code",
   "execution_count": null,
   "id": "011ec083-82fe-497b-80dd-733c40d1af36",
   "metadata": {},
   "outputs": [],
   "source": []
  },
  {
   "cell_type": "code",
   "execution_count": 5,
   "id": "00d33195-a736-4c3f-af4b-4c7688b9cc99",
   "metadata": {},
   "outputs": [
    {
     "ename": "FileNotFoundError",
     "evalue": "[Errno 2] No such file or directory: 'file5.png'",
     "output_type": "error",
     "traceback": [
      "\u001b[0;31m---------------------------------------------------------------------------\u001b[0m",
      "\u001b[0;31mFileNotFoundError\u001b[0m                         Traceback (most recent call last)",
      "Cell \u001b[0;32mIn[5], line 16\u001b[0m\n\u001b[1;32m     13\u001b[0m image_path \u001b[38;5;241m=\u001b[39m \u001b[38;5;124m\"\u001b[39m\u001b[38;5;124mfile5.png\u001b[39m\u001b[38;5;124m\"\u001b[39m\n\u001b[1;32m     15\u001b[0m \u001b[38;5;66;03m# Getting the base64 string\u001b[39;00m\n\u001b[0;32m---> 16\u001b[0m base64_image \u001b[38;5;241m=\u001b[39m \u001b[43mencode_image\u001b[49m\u001b[43m(\u001b[49m\u001b[43mimage_path\u001b[49m\u001b[43m)\u001b[49m\n\u001b[1;32m     19\u001b[0m text \u001b[38;5;241m=\u001b[39m \u001b[38;5;124m\"\"\"\u001b[39m\u001b[38;5;124m Responda as seguintes questões a respeito da imagem:\u001b[39m\n\u001b[1;32m     20\u001b[0m \u001b[38;5;124m1. **Tendência Geral**:\u001b[39m\n\u001b[1;32m     21\u001b[0m \u001b[38;5;124m   - Descreva a tendência geral observada no gráfico. A tendência é de alta, baixa ou lateral?\u001b[39m\n\u001b[0;32m   (...)\u001b[0m\n\u001b[1;32m     39\u001b[0m \u001b[38;5;124m   - Se a recomendação for compra ou venda, sugira os níveis de entrada, stop loss e take profit.\u001b[39m\n\u001b[1;32m     40\u001b[0m \u001b[38;5;124m\"\"\"\u001b[39m\n",
      "Cell \u001b[0;32mIn[5], line 9\u001b[0m, in \u001b[0;36mencode_image\u001b[0;34m(image_path)\u001b[0m\n\u001b[1;32m      8\u001b[0m \u001b[38;5;28;01mdef\u001b[39;00m \u001b[38;5;21mencode_image\u001b[39m(image_path):\n\u001b[0;32m----> 9\u001b[0m   \u001b[38;5;28;01mwith\u001b[39;00m \u001b[38;5;28;43mopen\u001b[39;49m\u001b[43m(\u001b[49m\u001b[43mimage_path\u001b[49m\u001b[43m,\u001b[49m\u001b[43m \u001b[49m\u001b[38;5;124;43m\"\u001b[39;49m\u001b[38;5;124;43mrb\u001b[39;49m\u001b[38;5;124;43m\"\u001b[39;49m\u001b[43m)\u001b[49m \u001b[38;5;28;01mas\u001b[39;00m image_file:\n\u001b[1;32m     10\u001b[0m     \u001b[38;5;28;01mreturn\u001b[39;00m base64\u001b[38;5;241m.\u001b[39mb64encode(image_file\u001b[38;5;241m.\u001b[39mread())\u001b[38;5;241m.\u001b[39mdecode(\u001b[38;5;124m'\u001b[39m\u001b[38;5;124mutf-8\u001b[39m\u001b[38;5;124m'\u001b[39m)\n",
      "File \u001b[0;32m~/miniconda3/envs/llava/lib/python3.10/site-packages/IPython/core/interactiveshell.py:324\u001b[0m, in \u001b[0;36m_modified_open\u001b[0;34m(file, *args, **kwargs)\u001b[0m\n\u001b[1;32m    317\u001b[0m \u001b[38;5;28;01mif\u001b[39;00m file \u001b[38;5;129;01min\u001b[39;00m {\u001b[38;5;241m0\u001b[39m, \u001b[38;5;241m1\u001b[39m, \u001b[38;5;241m2\u001b[39m}:\n\u001b[1;32m    318\u001b[0m     \u001b[38;5;28;01mraise\u001b[39;00m \u001b[38;5;167;01mValueError\u001b[39;00m(\n\u001b[1;32m    319\u001b[0m         \u001b[38;5;124mf\u001b[39m\u001b[38;5;124m\"\u001b[39m\u001b[38;5;124mIPython won\u001b[39m\u001b[38;5;124m'\u001b[39m\u001b[38;5;124mt let you open fd=\u001b[39m\u001b[38;5;132;01m{\u001b[39;00mfile\u001b[38;5;132;01m}\u001b[39;00m\u001b[38;5;124m by default \u001b[39m\u001b[38;5;124m\"\u001b[39m\n\u001b[1;32m    320\u001b[0m         \u001b[38;5;124m\"\u001b[39m\u001b[38;5;124mas it is likely to crash IPython. If you know what you are doing, \u001b[39m\u001b[38;5;124m\"\u001b[39m\n\u001b[1;32m    321\u001b[0m         \u001b[38;5;124m\"\u001b[39m\u001b[38;5;124myou can use builtins\u001b[39m\u001b[38;5;124m'\u001b[39m\u001b[38;5;124m open.\u001b[39m\u001b[38;5;124m\"\u001b[39m\n\u001b[1;32m    322\u001b[0m     )\n\u001b[0;32m--> 324\u001b[0m \u001b[38;5;28;01mreturn\u001b[39;00m \u001b[43mio_open\u001b[49m\u001b[43m(\u001b[49m\u001b[43mfile\u001b[49m\u001b[43m,\u001b[49m\u001b[43m \u001b[49m\u001b[38;5;241;43m*\u001b[39;49m\u001b[43margs\u001b[49m\u001b[43m,\u001b[49m\u001b[43m \u001b[49m\u001b[38;5;241;43m*\u001b[39;49m\u001b[38;5;241;43m*\u001b[39;49m\u001b[43mkwargs\u001b[49m\u001b[43m)\u001b[49m\n",
      "\u001b[0;31mFileNotFoundError\u001b[0m: [Errno 2] No such file or directory: 'file5.png'"
     ]
    }
   ],
   "source": [
    "import base64\n",
    "import requests\n",
    "\n",
    "# OpenAI API Key\n",
    "\n",
    "# Function to encode the image\n",
    "def encode_image(image_path):\n",
    "  with open(image_path, \"rb\") as image_file:\n",
    "    return base64.b64encode(image_file.read()).decode('utf-8')\n",
    "\n",
    "# Path to your image\n",
    "image_path = \"file5.png\"\n",
    "\n",
    "# Getting the base64 string\n",
    "base64_image = encode_image(image_path)\n",
    "\n",
    "\n",
    "text = \"\"\" Responda as seguintes questões a respeito da imagem:\n",
    "1. **Tendência Geral**:\n",
    "   - Descreva a tendência geral observada no gráfico. A tendência é de alta, baixa ou lateral?\n",
    "\n",
    "2. **Padrões de Candlestick**:\n",
    "   - Identifique quaisquer padrões significativos de candlestick. Existem sinais de reversão, continuação, doji, etc.?\n",
    "\n",
    "3. **Níveis de Suporte e Resistência**:\n",
    "   - Identifique os níveis de suporte e resistência no gráfico. Onde estão os principais pontos de suporte e resistência?\n",
    "\n",
    "4. **Volume** (se aplicável):\n",
    "   - Analise o volume de negociação, se disponível. O volume confirma a tendência observada?\n",
    "\n",
    "5. **Movimentos Recentes**:\n",
    "   - Descreva os movimentos de preço mais recentes. Houve rompimentos, pullbacks ou consolidações significativas?\n",
    "\n",
    "6. **Recomendações**:\n",
    "   - Com base na análise acima, qual é a recomendação (compra, venda ou aguardar)? Justifique a recomendação com base na análise.\n",
    "\n",
    "7. **Níveis de Entrada e Saída**:\n",
    "   - Se a recomendação for compra ou venda, sugira os níveis de entrada, stop loss e take profit.\n",
    "\"\"\"\n",
    "\n"
   ]
  },
  {
   "cell_type": "code",
   "execution_count": 4,
   "id": "4d2fa15f-8bc5-4f38-88e2-60b069a13553",
   "metadata": {},
   "outputs": [
    {
     "name": "stdout",
     "output_type": "stream",
     "text": [
      "{'id': 'chatcmpl-9wJnb7oCq99OMAwKEIcAQQNNYNVuV', 'object': 'chat.completion', 'created': 1723686159, 'model': 'gpt-4o-mini-2024-07-18', 'choices': [{'index': 0, 'message': {'role': 'assistant', 'content': 'Com base na análise solicitada do gráfico de candlestick apresentado, aqui estão as respostas para suas perguntas:\\n\\n1. **Tendência Geral**:\\n   - A tendência geral do gráfico parece ser de alta, com uma sequência de velas verde predominando nos últimos dias e o preço alcançando níveis mais altos.\\n\\n2. **Padrões de Candlestick**:\\n   - Há um padrão de vela doji em torno do dia 11, que pode indicar indecisão. As velas verdes que seguem parecem reforçar uma tendência de alta.   \\n\\n3. **Níveis de Suporte e Resistência**:\\n   - O nível de suporte parece estar em torno de 2360, onde o preço não desceu em movimento recente. O nível de resistência parece estar em torno de 2480, onde o preço teve dificuldade para ultrapassar.\\n\\n4. **Volume** (se aplicável):\\n   - Se o volume de negociação acompanha o aumento dos preços, isso confirmaria a tendência de alta. No entanto, sem dados de volume no gráfico, não é possível verificar isso diretamente.\\n\\n5. **Movimentos Recentes**:\\n   - Os movimentos de preço mais recentes mostram um pequeno pullback ao redor do dia 13, mas o preço recuperou, indicando uma continuação da tendência de alta.\\n\\n6. **Recomendações**:\\n   - Com base na análise, a recomendação seria de compra, pois a tendência de alta é reforçada por movimentos de preço positivos recentes.\\n\\n7. **Níveis de Entrada e Saída**:\\n   - **Nível de entrada**: Considerar entrar em torno de 2440.  \\n   - **Stop loss**: Definir um stop loss em torno de 2360, posição abaixo do suporte identificado.  \\n   - **Take profit**: Sugerir um take profit em torno de 2480, no nível de resistência.\\n\\nEssa análise deve ser complementada com outros indicadores e informações para uma decisão mais informada.', 'refusal': None}, 'logprobs': None, 'finish_reason': 'stop'}], 'usage': {'prompt_tokens': 37101, 'completion_tokens': 403, 'total_tokens': 37504}, 'system_fingerprint': 'fp_507c9469a1'}\n"
     ]
    }
   ],
   "source": [
    "headers = {\n",
    "  \"Content-Type\": \"application/json\",\n",
    "  \"Authorization\": f\"Bearer {api_key}\"\n",
    "}\n",
    "\n",
    "payload = {\n",
    "  \"model\": \"gpt-4o-mini\",\n",
    "  \"messages\": [\n",
    "    {\n",
    "      \"role\": \"user\",\n",
    "      \"content\": [\n",
    "        {\n",
    "          \"type\": \"text\",\n",
    "          \"text\": text\n",
    "        },\n",
    "        {\n",
    "          \"type\": \"image_url\",\n",
    "          \"image_url\": {\n",
    "            \"url\": f\"data:image/jpeg;base64,{base64_image}\"\n",
    "          }\n",
    "        }\n",
    "      ]\n",
    "    }\n",
    "  ],\n",
    "  \"max_tokens\": 500\n",
    "}\n",
    "\n",
    "response = requests.post(\"https://api.openai.com/v1/chat/completions\", headers=headers, json=payload)\n",
    "\n",
    "print(response.json())"
   ]
  },
  {
   "cell_type": "code",
   "execution_count": 6,
   "id": "56643d1d-e841-4ea9-a91e-c01398531aee",
   "metadata": {},
   "outputs": [
    {
     "data": {
      "text/plain": [
       "{'id': 'chatcmpl-9wJnb7oCq99OMAwKEIcAQQNNYNVuV',\n",
       " 'object': 'chat.completion',\n",
       " 'created': 1723686159,\n",
       " 'model': 'gpt-4o-mini-2024-07-18',\n",
       " 'choices': [{'index': 0,\n",
       "   'message': {'role': 'assistant',\n",
       "    'content': 'Com base na análise solicitada do gráfico de candlestick apresentado, aqui estão as respostas para suas perguntas:\\n\\n1. **Tendência Geral**:\\n   - A tendência geral do gráfico parece ser de alta, com uma sequência de velas verde predominando nos últimos dias e o preço alcançando níveis mais altos.\\n\\n2. **Padrões de Candlestick**:\\n   - Há um padrão de vela doji em torno do dia 11, que pode indicar indecisão. As velas verdes que seguem parecem reforçar uma tendência de alta.   \\n\\n3. **Níveis de Suporte e Resistência**:\\n   - O nível de suporte parece estar em torno de 2360, onde o preço não desceu em movimento recente. O nível de resistência parece estar em torno de 2480, onde o preço teve dificuldade para ultrapassar.\\n\\n4. **Volume** (se aplicável):\\n   - Se o volume de negociação acompanha o aumento dos preços, isso confirmaria a tendência de alta. No entanto, sem dados de volume no gráfico, não é possível verificar isso diretamente.\\n\\n5. **Movimentos Recentes**:\\n   - Os movimentos de preço mais recentes mostram um pequeno pullback ao redor do dia 13, mas o preço recuperou, indicando uma continuação da tendência de alta.\\n\\n6. **Recomendações**:\\n   - Com base na análise, a recomendação seria de compra, pois a tendência de alta é reforçada por movimentos de preço positivos recentes.\\n\\n7. **Níveis de Entrada e Saída**:\\n   - **Nível de entrada**: Considerar entrar em torno de 2440.  \\n   - **Stop loss**: Definir um stop loss em torno de 2360, posição abaixo do suporte identificado.  \\n   - **Take profit**: Sugerir um take profit em torno de 2480, no nível de resistência.\\n\\nEssa análise deve ser complementada com outros indicadores e informações para uma decisão mais informada.',\n",
       "    'refusal': None},\n",
       "   'logprobs': None,\n",
       "   'finish_reason': 'stop'}],\n",
       " 'usage': {'prompt_tokens': 37101,\n",
       "  'completion_tokens': 403,\n",
       "  'total_tokens': 37504},\n",
       " 'system_fingerprint': 'fp_507c9469a1'}"
      ]
     },
     "execution_count": 6,
     "metadata": {},
     "output_type": "execute_result"
    }
   ],
   "source": [
    "response.json()"
   ]
  },
  {
   "cell_type": "code",
   "execution_count": null,
   "id": "24bf8a45-350a-4418-80e6-55b3b96cbb68",
   "metadata": {},
   "outputs": [],
   "source": []
  }
 ],
 "metadata": {
  "kernelspec": {
   "display_name": "Python 3 (ipykernel)",
   "language": "python",
   "name": "python3"
  },
  "language_info": {
   "codemirror_mode": {
    "name": "ipython",
    "version": 3
   },
   "file_extension": ".py",
   "mimetype": "text/x-python",
   "name": "python",
   "nbconvert_exporter": "python",
   "pygments_lexer": "ipython3",
   "version": "3.10.14"
  }
 },
 "nbformat": 4,
 "nbformat_minor": 5
}
